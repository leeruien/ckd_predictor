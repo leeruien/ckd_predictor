{
 "cells": [
  {
   "cell_type": "code",
   "execution_count": 70,
   "metadata": {},
   "outputs": [],
   "source": [
    "import pandas as pd\n",
    "import numpy as np\n",
    "import matplotlib.pyplot as plt\n",
    "import seaborn as sns"
   ]
  },
  {
   "cell_type": "code",
   "execution_count": null,
   "metadata": {},
   "outputs": [
    {
     "name": "stdout",
     "output_type": "stream",
     "text": [
      "   id   age    bp     sg   al   su     rbc        pc         pcc          ba  \\\n",
      "0   0  48.0  80.0  1.020  1.0  0.0     NaN    normal  notpresent  notpresent   \n",
      "1   1   7.0  50.0  1.020  4.0  0.0     NaN    normal  notpresent  notpresent   \n",
      "2   2  62.0  80.0  1.010  2.0  3.0  normal    normal  notpresent  notpresent   \n",
      "3   3  48.0  70.0  1.005  4.0  0.0  normal  abnormal     present  notpresent   \n",
      "4   4  51.0  80.0  1.010  2.0  0.0  normal    normal  notpresent  notpresent   \n",
      "\n",
      "   ...  pcv    wc   rc  htn   dm  cad appet   pe  ane classification  \n",
      "0  ...   44  7800  5.2  yes  yes   no  good   no   no            ckd  \n",
      "1  ...   38  6000  NaN   no   no   no  good   no   no            ckd  \n",
      "2  ...   31  7500  NaN   no  yes   no  poor   no  yes            ckd  \n",
      "3  ...   32  6700  3.9  yes   no   no  poor  yes  yes            ckd  \n",
      "4  ...   35  7300  4.6   no   no   no  good   no   no            ckd  \n",
      "\n",
      "[5 rows x 26 columns]\n"
     ]
    }
   ],
   "source": [
    "data = pd.read_csv('kidney_disease.csv')\n",
    "numeric_columns = data.select_dtypes(include=['number']).columns  \n",
    "print(data.head())"
   ]
  },
  {
   "cell_type": "code",
   "execution_count": 73,
   "metadata": {},
   "outputs": [
    {
     "name": "stdout",
     "output_type": "stream",
     "text": [
      "<bound method DataFrame.info of       id   age    bp     sg   al   su     rbc        pc         pcc  \\\n",
      "0      0  48.0  80.0  1.020  1.0  0.0     NaN    normal  notpresent   \n",
      "1      1   7.0  50.0  1.020  4.0  0.0     NaN    normal  notpresent   \n",
      "2      2  62.0  80.0  1.010  2.0  3.0  normal    normal  notpresent   \n",
      "3      3  48.0  70.0  1.005  4.0  0.0  normal  abnormal     present   \n",
      "4      4  51.0  80.0  1.010  2.0  0.0  normal    normal  notpresent   \n",
      "..   ...   ...   ...    ...  ...  ...     ...       ...         ...   \n",
      "395  395  55.0  80.0  1.020  0.0  0.0  normal    normal  notpresent   \n",
      "396  396  42.0  70.0  1.025  0.0  0.0  normal    normal  notpresent   \n",
      "397  397  12.0  80.0  1.020  0.0  0.0  normal    normal  notpresent   \n",
      "398  398  17.0  60.0  1.025  0.0  0.0  normal    normal  notpresent   \n",
      "399  399  58.0  80.0  1.025  0.0  0.0  normal    normal  notpresent   \n",
      "\n",
      "             ba  ...  pcv    wc   rc  htn   dm  cad appet   pe  ane  \\\n",
      "0    notpresent  ...   44  7800  5.2  yes  yes   no  good   no   no   \n",
      "1    notpresent  ...   38  6000  NaN   no   no   no  good   no   no   \n",
      "2    notpresent  ...   31  7500  NaN   no  yes   no  poor   no  yes   \n",
      "3    notpresent  ...   32  6700  3.9  yes   no   no  poor  yes  yes   \n",
      "4    notpresent  ...   35  7300  4.6   no   no   no  good   no   no   \n",
      "..          ...  ...  ...   ...  ...  ...  ...  ...   ...  ...  ...   \n",
      "395  notpresent  ...   47  6700  4.9   no   no   no  good   no   no   \n",
      "396  notpresent  ...   54  7800  6.2   no   no   no  good   no   no   \n",
      "397  notpresent  ...   49  6600  5.4   no   no   no  good   no   no   \n",
      "398  notpresent  ...   51  7200  5.9   no   no   no  good   no   no   \n",
      "399  notpresent  ...   53  6800  6.1   no   no   no  good   no   no   \n",
      "\n",
      "    classification  \n",
      "0              ckd  \n",
      "1              ckd  \n",
      "2              ckd  \n",
      "3              ckd  \n",
      "4              ckd  \n",
      "..             ...  \n",
      "395         notckd  \n",
      "396         notckd  \n",
      "397         notckd  \n",
      "398         notckd  \n",
      "399         notckd  \n",
      "\n",
      "[400 rows x 26 columns]>\n"
     ]
    }
   ],
   "source": [
    "print(data.info)"
   ]
  },
  {
   "cell_type": "code",
   "execution_count": 74,
   "metadata": {},
   "outputs": [
    {
     "name": "stdout",
     "output_type": "stream",
     "text": [
      "id                  int64\n",
      "age               float64\n",
      "bp                float64\n",
      "sg                float64\n",
      "al                float64\n",
      "su                float64\n",
      "rbc                object\n",
      "pc                 object\n",
      "pcc                object\n",
      "ba                 object\n",
      "bgr               float64\n",
      "bu                float64\n",
      "sc                float64\n",
      "sod               float64\n",
      "pot               float64\n",
      "hemo              float64\n",
      "pcv                object\n",
      "wc                 object\n",
      "rc                 object\n",
      "htn                object\n",
      "dm                 object\n",
      "cad                object\n",
      "appet              object\n",
      "pe                 object\n",
      "ane                object\n",
      "classification     object\n",
      "dtype: object\n"
     ]
    }
   ],
   "source": [
    "print(data.dtypes)"
   ]
  },
  {
   "cell_type": "code",
   "execution_count": 75,
   "metadata": {},
   "outputs": [],
   "source": [
    "data[['pcv', 'wc', 'rc']] = data[['pcv', 'wc', 'rc']].apply(pd.to_numeric, errors='coerce')"
   ]
  },
  {
   "cell_type": "code",
   "execution_count": 76,
   "metadata": {},
   "outputs": [
    {
     "name": "stdout",
     "output_type": "stream",
     "text": [
      "id                0\n",
      "age               0\n",
      "bp                0\n",
      "sg                0\n",
      "al                0\n",
      "su                0\n",
      "rbc               0\n",
      "pc                0\n",
      "pcc               0\n",
      "ba                0\n",
      "bgr               0\n",
      "bu                0\n",
      "sc                0\n",
      "sod               0\n",
      "pot               0\n",
      "hemo              0\n",
      "pcv               0\n",
      "wc                0\n",
      "rc                0\n",
      "htn               0\n",
      "dm                0\n",
      "cad               0\n",
      "appet             0\n",
      "pe                0\n",
      "ane               0\n",
      "classification    0\n",
      "dtype: int64\n"
     ]
    }
   ],
   "source": [
    "data_cleaned = data\n",
    "numeric_columns = ['age', 'bp','bgr','bu','sc','sod','pot','hemo','pcv','wc','rc']\n",
    "data_cleaned[numeric_columns] = data[numeric_columns].fillna(data[numeric_columns].mean())\n",
    "non_numeric_columns = ['sg', 'al','su','rbc','pc','pcc','ba','htn','dm','cad','appet','pe','ane'] \n",
    "for column in non_numeric_columns:\n",
    "    data_cleaned[column] = data[column].fillna(data[column].mode()[0])\n",
    "\n",
    "print(data_cleaned.isnull().sum())"
   ]
  },
  {
   "cell_type": "code",
   "execution_count": 78,
   "metadata": {},
   "outputs": [
    {
     "name": "stdout",
     "output_type": "stream",
     "text": [
      "               id         age          bp          sg         al          su  \\\n",
      "count  400.000000  400.000000  400.000000  400.000000  400.00000  400.000000   \n",
      "mean   199.500000   51.483376   76.469072    1.017712    0.90000    0.395000   \n",
      "std    115.614301   16.974966   13.476298    0.005434    1.31313    1.040038   \n",
      "min      0.000000    2.000000   50.000000    1.005000    0.00000    0.000000   \n",
      "25%     99.750000   42.000000   70.000000    1.015000    0.00000    0.000000   \n",
      "50%    199.500000   54.000000   78.234536    1.020000    0.00000    0.000000   \n",
      "75%    299.250000   64.000000   80.000000    1.020000    2.00000    0.000000   \n",
      "max    399.000000   90.000000  180.000000    1.025000    5.00000    5.000000   \n",
      "\n",
      "              bgr          bu          sc         sod         pot        hemo  \\\n",
      "count  400.000000  400.000000  400.000000  400.000000  400.000000  400.000000   \n",
      "mean   148.036517   57.425722    3.072454  137.528754    4.627244   12.526437   \n",
      "std     74.782634   49.285887    5.617490    9.204273    2.819783    2.716171   \n",
      "min     22.000000    1.500000    0.400000    4.500000    2.500000    3.100000   \n",
      "25%    101.000000   27.000000    0.900000  135.000000    4.000000   10.875000   \n",
      "50%    126.000000   44.000000    1.400000  137.528754    4.627244   12.526437   \n",
      "75%    150.000000   61.750000    3.072454  141.000000    4.800000   14.625000   \n",
      "max    490.000000  391.000000   76.000000  163.000000   47.000000   17.800000   \n",
      "\n",
      "              pcv            wc          rc  \n",
      "count  400.000000    400.000000  400.000000  \n",
      "mean    38.884498   8406.122449    4.707435  \n",
      "std      8.151081   2523.219976    0.840314  \n",
      "min      9.000000   2200.000000    2.100000  \n",
      "25%     34.000000   6975.000000    4.500000  \n",
      "50%     38.884498   8406.122449    4.707435  \n",
      "75%     44.000000   9400.000000    5.100000  \n",
      "max     54.000000  26400.000000    8.000000  \n"
     ]
    }
   ],
   "source": [
    "print(data.describe())"
   ]
  },
  {
   "cell_type": "code",
   "execution_count": 82,
   "metadata": {},
   "outputs": [],
   "source": [
    "# Drop rows with missing values\n",
    "data_edited = data.dropna(inplace=True)\n"
   ]
  },
  {
   "cell_type": "code",
   "execution_count": 83,
   "metadata": {},
   "outputs": [],
   "source": [
    "data_edited = data.drop_duplicates(inplace=True)"
   ]
  },
  {
   "cell_type": "code",
   "execution_count": null,
   "metadata": {},
   "outputs": [],
   "source": [
    "data = data.drop(['id'], axis = 1)"
   ]
  },
  {
   "cell_type": "code",
   "execution_count": 86,
   "metadata": {},
   "outputs": [
    {
     "name": "stdout",
     "output_type": "stream",
     "text": [
      "Unique classifications: ['ckd' 'notckd']\n"
     ]
    }
   ],
   "source": [
    "unique_classes = data['classification'].unique()\n",
    "print(\"Unique classifications:\", unique_classes)"
   ]
  },
  {
   "cell_type": "code",
   "execution_count": null,
   "metadata": {},
   "outputs": [],
   "source": [
    "data.replace('ckd\\t', 'ckd', inplace = True)\n",
    "unique_classes = data['classification'].unique()\n",
    "print(\"Unique classifications:\", unique_classes)"
   ]
  }
 ],
 "metadata": {
  "kernelspec": {
   "display_name": "Python 3",
   "language": "python",
   "name": "python3"
  },
  "language_info": {
   "codemirror_mode": {
    "name": "ipython",
    "version": 3
   },
   "file_extension": ".py",
   "mimetype": "text/x-python",
   "name": "python",
   "nbconvert_exporter": "python",
   "pygments_lexer": "ipython3",
   "version": "3.12.3"
  }
 },
 "nbformat": 4,
 "nbformat_minor": 2
}
